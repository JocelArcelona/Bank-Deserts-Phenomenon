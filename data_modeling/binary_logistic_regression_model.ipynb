{
 "cells": [
  {
   "cell_type": "code",
   "execution_count": 88,
   "id": "initial_id",
   "metadata": {
    "collapsed": true,
    "ExecuteTime": {
     "end_time": "2025-03-06T03:01:58.110603900Z",
     "start_time": "2025-03-06T03:01:58.090466300Z"
    }
   },
   "outputs": [],
   "source": [
    "from sklearn.linear_model import LogisticRegression\n",
    "from sklearn.preprocessing import StandardScaler\n",
    "from sklearn.model_selection import train_test_split, cross_val_predict\n",
    "from sklearn.metrics import classification_report, ConfusionMatrixDisplay\n",
    "import pandas as pd\n",
    "import matplotlib.pyplot as plt"
   ]
  },
  {
   "cell_type": "code",
   "outputs": [],
   "source": [
    "# loading the data into a dataframe\n",
    "bank_desert_df = pd.read_parquet('../census_with_bsd.parquet')"
   ],
   "metadata": {
    "collapsed": false,
    "ExecuteTime": {
     "end_time": "2025-03-06T03:02:01.911178700Z",
     "start_time": "2025-03-06T03:01:59.791358500Z"
    }
   },
   "id": "4a9912d9fae2a6d2",
   "execution_count": 89
  },
  {
   "cell_type": "code",
   "outputs": [],
   "source": [
    "# creating dummy variables for categorical columns\n",
    "bank_desert_df = pd.get_dummies(bank_desert_df, columns=['Majority Race', 'Majority Gender', 'Community Type', 'Majority Age'], drop_first=True, dtype=int)"
   ],
   "metadata": {
    "collapsed": false,
    "ExecuteTime": {
     "end_time": "2025-03-06T03:02:16.606077300Z",
     "start_time": "2025-03-06T03:02:16.507774200Z"
    }
   },
   "id": "b4e1939a02ca6cf5",
   "execution_count": 90
  },
  {
   "cell_type": "code",
   "outputs": [],
   "source": [
    "# splitting the data into training and testing sets\n",
    "x_train, x_test, y_train, y_test = train_test_split(bank_desert_df.drop(columns='Bank Desert Status'), bank_desert_df['Bank Desert Status'], test_size=.2, random_state=42,stratify=bank_desert_df['Bank Desert Status'])"
   ],
   "metadata": {
    "collapsed": false,
    "ExecuteTime": {
     "end_time": "2025-03-06T03:02:22.294925900Z",
     "start_time": "2025-03-06T03:02:22.145609100Z"
    }
   },
   "id": "bfcff85565a79713",
   "execution_count": 91
  },
  {
   "cell_type": "code",
   "outputs": [],
   "source": [
    "# scaling the data\n",
    "scaler = StandardScaler()\n",
    "scaler.fit(x_train)\n",
    "scaled_x_train = pd.DataFrame(data=scaler.transform(X=x_train), columns=x_train.columns)\n",
    "scaled_x_test = pd.DataFrame(data=scaler.transform(X=x_test), columns=x_test.columns)"
   ],
   "metadata": {
    "collapsed": false,
    "ExecuteTime": {
     "end_time": "2025-03-06T03:02:23.920211600Z",
     "start_time": "2025-03-06T03:02:23.811588100Z"
    }
   },
   "id": "d73411215e8219e1",
   "execution_count": 92
  },
  {
   "cell_type": "code",
   "outputs": [],
   "source": [
    "# instantiating the logistic regressor\n",
    "lr_model = LogisticRegression(solver='liblinear', max_iter=1000, random_state=101)"
   ],
   "metadata": {
    "collapsed": false,
    "ExecuteTime": {
     "end_time": "2025-03-06T03:02:25.883110300Z",
     "start_time": "2025-03-06T03:02:25.865690900Z"
    }
   },
   "id": "b15cf81b02e08859",
   "execution_count": 93
  },
  {
   "cell_type": "code",
   "outputs": [],
   "source": [
    "# creating the logistic regressor\n",
    "lr_prob_train = cross_val_predict(lr_model, scaled_x_train.values, y_train, cv=5, method='predict_proba')"
   ],
   "metadata": {
    "collapsed": false,
    "ExecuteTime": {
     "end_time": "2025-03-06T03:06:27.294453200Z",
     "start_time": "2025-03-06T03:06:25.187585400Z"
    }
   },
   "id": "5a20c012dfbec166",
   "execution_count": 96
  },
  {
   "cell_type": "code",
   "outputs": [],
   "source": [
    "# predictions from probabilities\n",
    "lr_pred = (lr_prob_train[:,1] >= .5).astype(int)"
   ],
   "metadata": {
    "collapsed": false,
    "ExecuteTime": {
     "end_time": "2025-03-06T03:06:31.671397700Z",
     "start_time": "2025-03-06T03:06:31.661261600Z"
    }
   },
   "id": "94b450ed08eb3457",
   "execution_count": 97
  },
  {
   "cell_type": "code",
   "outputs": [
    {
     "name": "stdout",
     "output_type": "stream",
     "text": [
      "              precision    recall  f1-score   support\n",
      "\n",
      "           0       0.60      0.30      0.40     17604\n",
      "           1       0.69      0.88      0.77     30288\n",
      "\n",
      "    accuracy                           0.67     47892\n",
      "   macro avg       0.64      0.59      0.59     47892\n",
      "weighted avg       0.65      0.67      0.64     47892\n"
     ]
    }
   ],
   "source": [
    "# classification report for predictions from the logistic regression model\n",
    "print(classification_report(y_train, lr_pred))"
   ],
   "metadata": {
    "collapsed": false,
    "ExecuteTime": {
     "end_time": "2025-03-06T03:06:58.066342900Z",
     "start_time": "2025-03-06T03:06:58.004194400Z"
    }
   },
   "id": "e433b61324b3f60f",
   "execution_count": 98
  },
  {
   "cell_type": "code",
   "outputs": [
    {
     "data": {
      "text/plain": "<Figure size 640x480 with 1 Axes>",
      "image/png": "[encoded data removed]"
     },
     "metadata": {},
     "output_type": "display_data"
    }
   ],
   "source": [
    "ConfusionMatrixDisplay.from_predictions(y_train, lr_pred, colorbar=False)\n",
    "plt.show()"
   ],
   "metadata": {
    "collapsed": false,
    "ExecuteTime": {
     "end_time": "2025-03-06T03:08:08.180109900Z",
     "start_time": "2025-03-06T03:08:07.854848400Z"
    }
   },
   "id": "63fd9cc18cdd617a",
   "execution_count": 99
  }
 ],
 "metadata": {
  "kernelspec": {
   "display_name": "Python 3",
   "language": "python",
   "name": "python3"
  },
  "language_info": {
   "codemirror_mode": {
    "name": "ipython",
    "version": 2
   },
   "file_extension": ".py",
   "mimetype": "text/x-python",
   "name": "python",
   "nbconvert_exporter": "python",
   "pygments_lexer": "ipython2",
   "version": "2.7.6"
  }
 },
 "nbformat": 4,
 "nbformat_minor": 5
}
