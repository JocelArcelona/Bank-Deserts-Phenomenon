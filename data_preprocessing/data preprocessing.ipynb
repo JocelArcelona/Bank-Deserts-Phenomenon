{
 "cells": [
  {
   "cell_type": "code",
   "execution_count": 1,
   "id": "bb8ac0a5-e181-4f4d-b531-54f90cfe9f27",
   "metadata": {},
   "outputs": [],
   "source": [
    "import pandas as pd \n",
    "import csv "
   ]
  },
  {
   "cell_type": "code",
   "execution_count": null,
   "id": "e232f2a5-468e-45c9-b519-0df63f1e5e9e",
   "metadata": {},
   "outputs": [],
   "source": []
  }
 ],
 "metadata": {
  "kernelspec": {
   "display_name": "Python [conda env:base] *",
   "language": "python",
   "name": "conda-base-py"
  },
  "language_info": {
   "codemirror_mode": {
    "name": "ipython",
    "version": 3
   },
   "file_extension": ".py",
   "mimetype": "text/x-python",
   "name": "python",
   "nbconvert_exporter": "python",
   "pygments_lexer": "ipython3",
   "version": "3.12.7"
  }
 },
 "nbformat": 4,
 "nbformat_minor": 5
}
