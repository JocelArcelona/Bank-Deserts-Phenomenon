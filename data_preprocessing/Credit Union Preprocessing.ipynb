{
 "cells": [
  {
   "cell_type": "code",
   "execution_count": 1,
   "id": "initial_id",
   "metadata": {
    "collapsed": true,
    "ExecuteTime": {
     "end_time": "2025-03-16T23:50:58.093593900Z",
     "start_time": "2025-03-16T23:50:53.704721200Z"
    }
   },
   "outputs": [],
   "source": [
    "# loading libraries\n",
    "import requests\n",
    "import csv\n",
    "import pandas as pd"
   ]
  },
  {
   "cell_type": "markdown",
   "source": [
    "### Preprocessing of the credit union data\n",
    "- Save the credit union file as a CSV in the data folder\n",
    "- Remove carriage returns from the headers\n",
    "- Manually edit City (Mailing address) for any that are truncated at 15 characters\n",
    "- Run the below code which will add geocoding data"
   ],
   "metadata": {
    "collapsed": false
   },
   "id": "dda658a7bd90d262"
  },
  {
   "cell_type": "code",
   "execution_count": 2,
   "id": "996e15e9934cab36",
   "metadata": {
    "collapsed": false,
    "ExecuteTime": {
     "end_time": "2025-03-16T23:52:46.343873900Z",
     "start_time": "2025-03-16T23:52:44.637055700Z"
    }
   },
   "outputs": [],
   "source": [
    "# create a function to batch geocode \n",
    "def geocode(url, params, input_file, output_file):\n",
    "    with open(input_file, 'rb') as file: \n",
    "        files = {'addressFile': file}\n",
    "        response = requests.post(url = url, params = params, files = files)\n",
    "        if response.status_code == 200:\n",
    "            try: \n",
    "                with open(output_file, 'wb') as output: \n",
    "                    output.write(response.content)\n",
    "                print(f'Geocoded results saved to {output_file}')\n",
    "            except Exception as e: \n",
    "                print(f'An error ocurred while geocoding: {e}')\n",
    "        else: \n",
    "            print(f'Error: {response.status_code}, {response.text}')"
   ]
  },
  {
   "cell_type": "code",
   "execution_count": 3,
   "id": "a1af583455220c72",
   "metadata": {
    "collapsed": false,
    "ExecuteTime": {
     "end_time": "2025-03-16T23:52:46.455106800Z",
     "start_time": "2025-03-16T23:52:46.399865900Z"
    }
   },
   "outputs": [],
   "source": [
    "# geocoding services web api url        \n",
    "batch_geocode_url = 'https://geocoding.geo.census.gov/geocoder/geographies/addressbatch'\n",
    "\n",
    "geocode_params = {\n",
    "    'returntype': 'geographies',\n",
    "    'benchmark': 'Public_AR_Current',\n",
    "    'vintage': 'Current_Current'\n",
    "}"
   ]
  },
  {
   "cell_type": "code",
   "outputs": [],
   "source": [
    "# import credit union file\n",
    "credit_list = []\n",
    "with open('../data/FederallyInsuredCreditUnions_2024q3.csv','r') as csvfile:\n",
    "    reader = csv.reader(csvfile, delimiter=',')\n",
    "    num = 0\n",
    "    for row in reader:\n",
    "        if num == 0:\n",
    "            headers = row\n",
    "            num += 1\n",
    "        else:\n",
    "            credit_list.append(row)"
   ],
   "metadata": {
    "collapsed": false,
    "ExecuteTime": {
     "end_time": "2025-03-16T23:52:48.754161700Z",
     "start_time": "2025-03-16T23:52:48.685738800Z"
    }
   },
   "id": "eb226826fb7cc522",
   "execution_count": 4
  },
  {
   "cell_type": "code",
   "outputs": [],
   "source": [
    "# create new file with just the address information\n",
    "with open('../data/NCUA Addresses.csv','w', newline='') as csvfile:\n",
    "    writer = csv.writer(csvfile, delimiter=',')\n",
    "    writer.writerow([headers[0], headers[5], headers[6], headers[7], headers[8]])\n",
    "    for i in range(len(credit_list)):\n",
    "        writer.writerow([credit_list[i][0], credit_list[i][5], credit_list[i][6], credit_list[i][7], credit_list[i][8]])"
   ],
   "metadata": {
    "collapsed": false,
    "ExecuteTime": {
     "end_time": "2025-03-16T23:53:44.481690900Z",
     "start_time": "2025-03-16T23:53:44.437201300Z"
    }
   },
   "id": "f52d90e784377e22",
   "execution_count": 6
  },
  {
   "cell_type": "code",
   "execution_count": 7,
   "id": "85ea4f54",
   "metadata": {
    "ExecuteTime": {
     "end_time": "2025-03-16T23:55:29.611069500Z",
     "start_time": "2025-03-16T23:54:49.538889800Z"
    }
   },
   "outputs": [
    {
     "name": "stdout",
     "output_type": "stream",
     "text": [
      "Geocoded results saved to ../data/addresses_geocoded.csv\n"
     ]
    }
   ],
   "source": [
    "# process the address file\n",
    "geocode_input_file = '../data/NCUA Addresses.csv'\n",
    "geocode_output_file = '../data/addresses_geocoded.csv'\n",
    "geocode(batch_geocode_url, geocode_params, geocode_input_file, geocode_output_file)"
   ]
  },
  {
   "cell_type": "code",
   "execution_count": 8,
   "id": "a983aec092f1447f",
   "metadata": {
    "collapsed": false,
    "ExecuteTime": {
     "end_time": "2025-03-16T23:55:30.286456200Z",
     "start_time": "2025-03-16T23:55:29.612520900Z"
    }
   },
   "outputs": [],
   "source": [
    "# create a dataframe and combine the results from the original file and the geocoded addresses\n",
    "data = pd.read_csv(r'../data/FederallyInsuredCreditUnions_2024q3.csv')\n",
    "geocodes = pd.read_csv(r'../data/addresses_geocoded.csv')\n",
    "geocodes.columns = ['Charter number', 'Input Address', 'Match Type', 'Match Precision', 'Standardized Address', 'Coordinates', 'Census Geoid', 'Unknown1', 'State Code', 'County Code', 'Tract Code', 'Block Code']\n",
    "data['Charter number'] = data['Charter number'].astype(str)\n",
    "geocodes['Charter number'] = geocodes['Charter number'].astype(str)\n",
    "combined = data.merge(geocodes, on = ['Charter number'], how='left', sort=True)"
   ]
  },
  {
   "cell_type": "code",
   "outputs": [],
   "source": [
    "# create the FIPS code\n",
    "combined['FIPS 11'] = ''\n",
    "for i in range(len(combined)):\n",
    "    if combined['Match Type'][i] == 'Match':\n",
    "        combined.loc[i, 'FIPS 11'] = f'{str(int(combined['State Code'][i])).zfill(2)}{str(int(combined['County Code'][i])).zfill(3)}{str(int(combined['Tract Code'][i])).zfill(6)}' "
   ],
   "metadata": {
    "collapsed": false,
    "ExecuteTime": {
     "end_time": "2025-03-16T23:55:32.226947200Z",
     "start_time": "2025-03-16T23:55:30.274393100Z"
    }
   },
   "id": "32054e6c1cb554b1",
   "execution_count": 9
  },
  {
   "cell_type": "code",
   "outputs": [],
   "source": [
    "# export the data into a parquet file\n",
    "combined.to_parquet('../data/combined_file.parquet', index=False)"
   ],
   "metadata": {
    "collapsed": false,
    "ExecuteTime": {
     "end_time": "2025-03-16T23:55:32.754075500Z",
     "start_time": "2025-03-16T23:55:32.233722400Z"
    }
   },
   "id": "85e763f082a95812",
   "execution_count": 10
  }
 ],
 "metadata": {
  "kernelspec": {
   "display_name": "Python 3",
   "language": "python",
   "name": "python3"
  },
  "language_info": {
   "codemirror_mode": {
    "name": "ipython",
    "version": 3
   },
   "file_extension": ".py",
   "mimetype": "text/x-python",
   "name": "python",
   "nbconvert_exporter": "python",
   "pygments_lexer": "ipython3",
   "version": "3.12.5"
  }
 },
 "nbformat": 4,
 "nbformat_minor": 5
}
