{
 "cells": [
  {
   "cell_type": "code",
   "execution_count": 1,
   "id": "14e3a92e-0d50-4e31-b7b4-b8d082b966d4",
   "metadata": {},
   "outputs": [],
   "source": [
    "import os\n",
    "import geopandas as gpd\n",
    "import pandas as pd\n",
    "import folium\n",
    "import webbrowser"
   ]
  },
  {
   "cell_type": "markdown",
   "id": "120480bf-d9ed-4548-b1da-31fd8780678b",
   "metadata": {},
   "source": [
    "# Folium Map of Bank Desert Status\n",
    "\n",
    "This analysis leverages Census Bureau ACS, bank location, and bank desert location data (generated in data_preprocessing/ and exploratory_data_analysis/) to visualize which census tracts are classified as bank deserts geospatially. \n",
    "\n",
    "We'll start by reading the geospatial parquet files containing bank desert status and bank locations to GeoPandas dataframes. We'll read the Census Data to a Pandas dataframe."
   ]
  },
  {
   "cell_type": "code",
   "execution_count": 2,
   "id": "adb71f67-6296-403c-a2e1-16f5534cd867",
   "metadata": {},
   "outputs": [],
   "source": [
    "# go up a directory level\n",
    "os.chdir('..')\n",
    "\n",
    "# bank desert status\n",
    "bds_gdf = gpd.read_parquet('data/shp_with_BDS.parquet')\n",
    "\n",
    "# census data\n",
    "acs5 = pd.read_parquet('data/acs5_final.parquet')\n",
    "\n",
    "# bank locations\n",
    "banks_gdf = gpd.read_parquet('data/fdic_ncua_gdf_final.parquet')\n",
    "\n",
    "# rest to cwd\n",
    "os.chdir('data_visualization')\n",
    "\n",
    "# state fips\n",
    "fips = pd.read_csv(\"statefips.csv\")"
   ]
  },
  {
   "cell_type": "markdown",
   "id": "f11083d2-0599-481e-9756-9edf97d1d931",
   "metadata": {},
   "source": [
    "## Data Preprocessing\n",
    "\n",
    "Clean the data to prepare it for processing in Folium. Note that the data files above have census tract-level data for all 50 states. These data files are too large to run in Jupyter Notebook. Thus, for this analysis, we will iterate through all 50 states and create a map for each."
   ]
  },
  {
   "cell_type": "code",
   "execution_count": 3,
   "id": "93b1751f-dc2a-4f78-a5f6-6574537e14d9",
   "metadata": {},
   "outputs": [],
   "source": [
    "# convert GEOIDs to string for merge\n",
    "bds_gdf[\"GEOID\"] = bds_gdf[\"GEOID\"].astype(\"string\")\n",
    "acs5[\"GEOID\"] = acs5[\"GEOID\"].astype(\"string\")"
   ]
  },
  {
   "cell_type": "code",
   "execution_count": 4,
   "id": "8274fb19-9dff-4b2d-81e9-9f21cef1b445",
   "metadata": {},
   "outputs": [],
   "source": [
    "# convert state fips to string\n",
    "fips = fips.astype('string')\n",
    "fips['State_FIPS'] = fips['State_FIPS'].astype('string').str.zfill(2)"
   ]
  },
  {
   "cell_type": "code",
   "execution_count": 5,
   "id": "a5cbb4c4-78ed-4b2c-bbf9-4832c32ebe62",
   "metadata": {},
   "outputs": [],
   "source": [
    "# change the projection\n",
    "bds_gdf = bds_gdf.to_crs(epsg=4326)"
   ]
  },
  {
   "cell_type": "code",
   "execution_count": 6,
   "id": "f8fef148-45a6-4289-8a5e-6aca24eae296",
   "metadata": {},
   "outputs": [],
   "source": [
    "# merge bank desert location and census datasets\n",
    "gdf = bds_gdf.merge(acs5, on='GEOID')"
   ]
  },
  {
   "cell_type": "code",
   "execution_count": 7,
   "id": "a2b46ba4-363d-4676-bfe0-657a974d5683",
   "metadata": {},
   "outputs": [],
   "source": [
    "# convert bank desert status to numeric for choropleth map\n",
    "# 1 = not a bank desert, 2 = potential, 3 = bank desert\n",
    "gdf['bank_desert_type'] = gdf.apply(lambda x: 1 if x.bank_desert_status == 'not a bank desert' else (2 if x.bank_desert_status == 'potential bank desert' else (3 if x.bank_desert_status == 'bank desert' else 0)), axis=1)\n",
    "\n",
    "# remove % from Majority Race\n",
    "gdf['Majority Race'] = gdf['Majority Race'].astype(\"string\").str.replace('%','')\n"
   ]
  },
  {
   "cell_type": "code",
   "execution_count": 8,
   "id": "e52e6c43-d3ab-4c13-9901-4c71fe6dfad6",
   "metadata": {},
   "outputs": [],
   "source": [
    "# create final dataset\n",
    "gdf_final = gdf.loc[:,['GEOID','STATEFP','geometry','Bank Desert Status','bank_desert_type','Community Type_x','House Units','Income','Poverty%','Employment%','Majority Race']]"
   ]
  },
  {
   "cell_type": "markdown",
   "id": "0b71ce81-c550-4f7d-9465-13194ba47785",
   "metadata": {},
   "source": [
    "## Create Folium map function"
   ]
  },
  {
   "cell_type": "code",
   "execution_count": 9,
   "id": "404fe60e-8e3b-4c1a-9fe1-8a1b90181164",
   "metadata": {},
   "outputs": [],
   "source": [
    "def create_state_map(state, statefp, lat, long):\n",
    "    '''\n",
    "        Function to create a choropleth map of the bank desert status of the census tracts \n",
    "        in a state with an overlay of bank locations. Map includes tooltip and popup \n",
    "        functionality and will be output to the Output/ folder.\n",
    "        \n",
    "        Args:\n",
    "            state: 2-letter state abbreviation\n",
    "            statefp: 2-digit state FIPS code\n",
    "        Return:\n",
    "            None  \n",
    "    '''\n",
    "    # filter the dataframe for the state\n",
    "    bds = gdf_final[gdf_final['STATEFP'] == statefp]\n",
    "    banks = banks_gdf[banks_gdf['State'] == state]\n",
    "    \n",
    "    # create a basemap\n",
    "    m = folium.Map(location=[lat, long], zoom_start=6) # centered on state\n",
    "\n",
    "    # set bins for bank desert status\n",
    "    bins = [0,1,2,3,4]\n",
    "\n",
    "    # add a choropleth layer\n",
    "    folium.Choropleth(\n",
    "        geo_data=bds, \n",
    "        name=\"Bank Deserts by Census Tract\",\n",
    "        data=bds,\n",
    "        columns=[\"GEOID\", \"bank_desert_type\"], \n",
    "        key_on=\"feature.properties.GEOID\", \n",
    "        fill_color=\"YlGnBu\", # color scale: yellow, green, blue\n",
    "        bins=bins, # set number of color bins\n",
    "        reset=True, # reset bins\n",
    "        fill_opacity=0.7,\n",
    "        line_opacity=0, # transparent border\n",
    "        legend_name=\"Bank Desert Status\"\n",
    "    ).add_to(m)\n",
    "\n",
    "    tooltip = folium.GeoJsonTooltip(\n",
    "        fields=[\"GEOID\", \"Bank Desert Status\", \"Community Type_x\", \"House Units\", \"Income\", \"Majority Race\"],  # Columns to display in tooltip\n",
    "        aliases=[\"Census Tract:\", \"Bank Desert Status:\", \"Community Type:\", \"Housing Units:\", \"Median Income:\", \"Racial Majority:\"],  # Labels for the tooltip\n",
    "        localize=True, # format numbers properly\n",
    "        sticky=False, # tooltip follows the cursor\n",
    "        labels=True, # show field labels\n",
    "        style=\"background-color: white; color: black; font-weight: bold;\"  # Tooltip style\n",
    "    )\n",
    "\n",
    "    # add tooltip to the GeoJSON layer\n",
    "    folium.GeoJson(\n",
    "        bds,\n",
    "        tooltip=tooltip,\n",
    "        style_function=lambda feature: {\n",
    "            \"fillColor\": \"transparent\",  \n",
    "            \"color\": \"transparent\", # transparent outline\n",
    "            \"weight\": 0.3,  # thin borders\n",
    "            \"fillOpacity\": 0.7\n",
    "        }\n",
    "    ).add_to(m)\n",
    "\n",
    "    # create markers for bank locations\n",
    "    for idx, row in banks.iterrows():\n",
    "        folium.CircleMarker(\n",
    "            location=[row[\"Latitude\"], row[\"Longitude\"]],\n",
    "            radius=1, # size of the marker\n",
    "            color=\"black\",\n",
    "            fill=True,\n",
    "            fill_color=\"black\",\n",
    "            fill_opacity=0.8,\n",
    "            popup=folium.Popup(row[\"Bank Name\"], parse_html=True)  # Show name on click\n",
    "    ).add_to(m)\n",
    "\n",
    "    # save the map as an HTML file\n",
    "    m.save(\"Output/bank_deserts_map_\" + state + \".html\")    \n",
    "    "
   ]
  },
  {
   "cell_type": "code",
   "execution_count": 10,
   "id": "1d1656d7-97d8-40f5-b112-3521c6e241e9",
   "metadata": {},
   "outputs": [
    {
     "name": "stdout",
     "output_type": "stream",
     "text": [
      "No banks founds in CT.\n"
     ]
    }
   ],
   "source": [
    "# create a map for each state in the Output/ folder\n",
    "for index, row in fips.iterrows():\n",
    "    try:\n",
    "        create_state_map(row['State'], row['State_FIPS'], row['Lat'], row['Long'])\n",
    "    except:\n",
    "        print(f\"No banks founds in {row['State']}.\")"
   ]
  }
 ],
 "metadata": {
  "kernelspec": {
   "display_name": "Python 3 (ipykernel)",
   "language": "python",
   "name": "python3"
  },
  "language_info": {
   "codemirror_mode": {
    "name": "ipython",
    "version": 3
   },
   "file_extension": ".py",
   "mimetype": "text/x-python",
   "name": "python",
   "nbconvert_exporter": "python",
   "pygments_lexer": "ipython3",
   "version": "3.12.3"
  }
 },
 "nbformat": 4,
 "nbformat_minor": 5
}
