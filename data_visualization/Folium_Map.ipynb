{
 "cells": [
  {
   "cell_type": "code",
   "execution_count": 1,
   "id": "14e3a92e-0d50-4e31-b7b4-b8d082b966d4",
   "metadata": {},
   "outputs": [],
   "source": [
    "import os\n",
    "import geopandas as gpd\n",
    "import pandas as pd\n",
    "import folium\n",
    "import webbrowser"
   ]
  },
  {
   "cell_type": "markdown",
   "id": "120480bf-d9ed-4548-b1da-31fd8780678b",
   "metadata": {},
   "source": [
    "Read geospatial parquet files contain bank desert status and bank locations to GeoPandas DataFrames. Read Census Data to Pandas Dataframe."
   ]
  },
  {
   "cell_type": "code",
   "execution_count": 2,
   "id": "adb71f67-6296-403c-a2e1-16f5534cd867",
   "metadata": {},
   "outputs": [],
   "source": [
    "# go up a directory level\n",
    "os.chdir('..')\n",
    "\n",
    "# bank desert status\n",
    "bds_gdf = gpd.read_parquet('exploratory_data_analysis/shp_with_BDS.parquet')\n",
    "\n",
    "# census data\n",
    "acs5 = pd.read_parquet('data_preprocessing/acs5_final.parquet')\n",
    "\n",
    "# bank locations\n",
    "banks_gdf = gpd.read_parquet('data_preprocessing/fdic_ncua_gdf_final.parquet')\n",
    "\n",
    "# rest to cwd\n",
    "os.chdir('data_visualization')"
   ]
  },
  {
   "cell_type": "code",
   "execution_count": 3,
   "id": "93b1751f-dc2a-4f78-a5f6-6574537e14d9",
   "metadata": {},
   "outputs": [],
   "source": [
    "# convert GEOIDs to string for merge\n",
    "bds_gdf[\"GEOID\"] = bds_gdf[\"GEOID\"].astype(\"string\")\n",
    "acs5[\"GEOID\"] = acs5[\"GEOID\"].astype(\"string\")"
   ]
  },
  {
   "cell_type": "code",
   "execution_count": 4,
   "id": "6aa15bcf-2d33-4c94-aae9-e9da50820773",
   "metadata": {},
   "outputs": [],
   "source": [
    "# filter for California\n",
    "bds_gdf = bds_gdf[bds_gdf['STATEFP'] == '06']\n",
    "banks_gdf = banks_gdf[banks_gdf['State'] == 'CA']"
   ]
  },
  {
   "cell_type": "code",
   "execution_count": 5,
   "id": "a5cbb4c4-78ed-4b2c-bbf9-4832c32ebe62",
   "metadata": {},
   "outputs": [],
   "source": [
    "# change the projection\n",
    "bds_gdf = bds_gdf.to_crs(epsg=4326)"
   ]
  },
  {
   "cell_type": "code",
   "execution_count": 6,
   "id": "f8fef148-45a6-4289-8a5e-6aca24eae296",
   "metadata": {},
   "outputs": [],
   "source": [
    "# merge bank desert location and census datasets\n",
    "gdf = bds_gdf.merge(acs5, on='GEOID')"
   ]
  },
  {
   "cell_type": "code",
   "execution_count": 7,
   "id": "a2b46ba4-363d-4676-bfe0-657a974d5683",
   "metadata": {},
   "outputs": [],
   "source": [
    "# convert bank desert status to numeric\n",
    "# 1 = not a bank desert, 2 = potential, 3 = bank desert\n",
    "gdf['bank_desert_type'] = gdf.apply(lambda x: 1 if x.bank_desert_status == 'not a bank desert' else (2 if x.bank_desert_status == 'potential bank desert' else (3 if x.bank_desert_status == 'bank desert' else 0)), axis=1)\n",
    "\n",
    "# remove % from Majority Race\n",
    "gdf['Majority Race'] = gdf['Majority Race'].astype(\"string\").str.replace('%','')\n"
   ]
  },
  {
   "cell_type": "code",
   "execution_count": 8,
   "id": "e52e6c43-d3ab-4c13-9901-4c71fe6dfad6",
   "metadata": {},
   "outputs": [],
   "source": [
    "gdf_final = gdf.loc[:,['GEOID','geometry','Bank Desert Status','bank_desert_type','Community Type_x','House Units','Income','Poverty%','Employment%','Majority Race']]"
   ]
  },
  {
   "cell_type": "code",
   "execution_count": 9,
   "id": "2146f562-0dd5-432f-a80e-feeb91d03554",
   "metadata": {},
   "outputs": [],
   "source": [
    "# create a basemap\n",
    "m = folium.Map(location=[37.1661, -119.4494], zoom_start=5) # centered on central California \n",
    "#m = folium.Map(location=[39.8283, -98.5795]) # center on Kansas"
   ]
  },
  {
   "cell_type": "code",
   "execution_count": 10,
   "id": "094db88c-4d13-4063-8005-c401b4a6c8eb",
   "metadata": {},
   "outputs": [],
   "source": [
    "# set bins for bank desert status\n",
    "bins = [0,1,2,3,4]"
   ]
  },
  {
   "cell_type": "code",
   "execution_count": 11,
   "id": "6de1222b-d4fa-440e-9434-2d036e4e4d84",
   "metadata": {},
   "outputs": [
    {
     "data": {
      "text/plain": [
       "<folium.features.Choropleth at 0x7feb31378c20>"
      ]
     },
     "execution_count": 11,
     "metadata": {},
     "output_type": "execute_result"
    }
   ],
   "source": [
    "# add a choropleth layer\n",
    "folium.Choropleth(\n",
    "    geo_data=gdf_final, \n",
    "    name=\"Bank Deserts by Census Tract\",\n",
    "    data=gdf_final,\n",
    "    columns=[\"GEOID\", \"bank_desert_type\"], \n",
    "    key_on=\"feature.properties.GEOID\", \n",
    "    fill_color=\"YlGnBu\", # color scale: yellow, green, blue\n",
    "    bins=bins, # set number of color bins\n",
    "    reset=True, # reset bins\n",
    "    fill_opacity=0.7,\n",
    "    line_opacity=0, # transparent border\n",
    "    legend_name=\"Bank Desert Status\"\n",
    ").add_to(m)"
   ]
  },
  {
   "cell_type": "code",
   "execution_count": 12,
   "id": "d82e59f1-a7f2-490b-b03b-b7c37fd2bfb2",
   "metadata": {},
   "outputs": [
    {
     "data": {
      "text/plain": [
       "<folium.features.GeoJson at 0x7feb14304320>"
      ]
     },
     "execution_count": 12,
     "metadata": {},
     "output_type": "execute_result"
    }
   ],
   "source": [
    "tooltip = folium.GeoJsonTooltip(\n",
    "    fields=[\"GEOID\", \"Bank Desert Status\", \"Community Type_x\", \"House Units\", \"Income\", \"Majority Race\"],  # Columns to display in tooltip\n",
    "    aliases=[\"Census Tract:\", \"Bank Desert Status:\", \"Community Type:\", \"Housing Units:\", \"Median Income:\", \"Racial Majority:\"],  # Labels for the tooltip\n",
    "    localize=True, # format numbers properly\n",
    "    sticky=False, # tooltip follows the cursor\n",
    "    labels=True, # show field labels\n",
    "    style=\"background-color: white; color: black; font-weight: bold;\"  # Tooltip style\n",
    ")\n",
    "\n",
    "# add tooltip to the GeoJSON layer\n",
    "folium.GeoJson(\n",
    "    gdf,\n",
    "    tooltip=tooltip,\n",
    "    style_function=lambda feature: {\n",
    "        \"fillColor\": \"transparent\",  \n",
    "        \"color\": \"transparent\", # transparent outline\n",
    "        \"weight\": 0.3,  # thin borders\n",
    "        \"fillOpacity\": 0.7\n",
    "    }\n",
    ").add_to(m)"
   ]
  },
  {
   "cell_type": "code",
   "execution_count": 13,
   "id": "8f1b4e3b-95df-4dbb-af49-68ea885df0f8",
   "metadata": {},
   "outputs": [],
   "source": [
    "# create markers for bank locations\n",
    "for idx, row in banks_gdf.iterrows():\n",
    "    folium.CircleMarker(\n",
    "        location=[row[\"Latitude\"], row[\"Longitude\"]],\n",
    "        radius=1, # size of the marker\n",
    "        color=\"black\",\n",
    "        fill=True,\n",
    "        fill_color=\"black\",\n",
    "        fill_opacity=0.8,\n",
    "        popup=folium.Popup(row[\"Bank Name\"], parse_html=True)  # Show name on click\n",
    "    ).add_to(m)"
   ]
  },
  {
   "cell_type": "code",
   "execution_count": 14,
   "id": "8146d054-e00f-4041-8834-2ef941a38ca8",
   "metadata": {},
   "outputs": [],
   "source": [
    "# display final map\n",
    "# m"
   ]
  },
  {
   "cell_type": "code",
   "execution_count": 15,
   "id": "615c3aa1-83a2-4b2f-82f8-9c7928a16608",
   "metadata": {},
   "outputs": [],
   "source": [
    "# save the map as an HTML file\n",
    "m.save(\"bank_deserts_map.html\")"
   ]
  },
  {
   "cell_type": "code",
   "execution_count": 16,
   "id": "ea3d547d-3c47-44dc-a877-3a9aa973fd0d",
   "metadata": {},
   "outputs": [
    {
     "data": {
      "text/plain": [
       "True"
      ]
     },
     "execution_count": 16,
     "metadata": {},
     "output_type": "execute_result"
    }
   ],
   "source": [
    "webbrowser.open(\"bank_deserts_map.html\")"
   ]
  }
 ],
 "metadata": {
  "kernelspec": {
   "display_name": "Python 3 (ipykernel)",
   "language": "python",
   "name": "python3"
  },
  "language_info": {
   "codemirror_mode": {
    "name": "ipython",
    "version": 3
   },
   "file_extension": ".py",
   "mimetype": "text/x-python",
   "name": "python",
   "nbconvert_exporter": "python",
   "pygments_lexer": "ipython3",
   "version": "3.12.3"
  }
 },
 "nbformat": 4,
 "nbformat_minor": 5
}
