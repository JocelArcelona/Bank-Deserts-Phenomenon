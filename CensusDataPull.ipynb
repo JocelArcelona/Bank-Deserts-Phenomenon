{
 "cells": [
  {
   "cell_type": "code",
   "execution_count": 1,
   "id": "70d483c2-fbfa-4dc2-a008-92727886f017",
   "metadata": {},
   "outputs": [],
   "source": [
    "from configparser import ConfigParser\n",
    "from census import Census\n",
    "import pandas as pd\n",
    "import numpy as np"
   ]
  },
  {
   "cell_type": "markdown",
   "id": "9f7d404e-920b-4ece-aea1-b036b6f466da",
   "metadata": {},
   "source": [
    "## Census Data Pull\n",
    "\n",
    "This analysis utilizes data from the U.S. Census Bureau's American Community Survey (ACS), an annual survey covering social, economic, demographic, and housing characteristics. The Census Bureau maintains an API for easy access to their public datasets, including the ACS.\n",
    "\n",
    "Request a Census Data API Key [here](https://api.census.gov/data/key_signup.html). For more information on the census library, a wrapper for the Census API, visit [Python Package Index](https://pypi.org/project/census/)."
   ]
  },
  {
   "cell_type": "code",
   "execution_count": 2,
   "id": "7f8423d5-5f04-46a2-8e96-9ef6685a4095",
   "metadata": {},
   "outputs": [],
   "source": [
    "# retrieve API from configuration file\n",
    "config = ConfigParser()\n",
    "config.read('config.ini')\n",
    "API_KEY = config['CENSUS']['API']\n",
    "c = Census(API_KEY)"
   ]
  },
  {
   "cell_type": "markdown",
   "id": "6a189709-6232-46b7-9ea2-b58e2fde4c53",
   "metadata": {},
   "source": [
    "List variables needed from the [Census Bureau](https://api.census.gov/data/2022/acs/acs5/variables.html)"
   ]
  },
  {
   "cell_type": "code",
   "execution_count": 3,
   "id": "c1dc5b74-f832-4845-ab52-3a0aced2e138",
   "metadata": {},
   "outputs": [],
   "source": [
    "variables = (\n",
    "    'NAME',    \n",
    "    \"B01003_001E\", # Total Population\n",
    "    # Economic\n",
    "    \"B17001_002E\", # Poverty\n",
    "    \"B19013_001E\", # Median Household Income\n",
    "    # Race & Ethnicity\n",
    "    \"B02001_002E\", # White\n",
    "    \"B02001_003E\", # Black or African American \n",
    "    \"B02001_004E\", # American Indian and Alaska Native\n",
    "    \"B02001_005E\", # Asian\n",
    "    \"B02001_006E\", # Native Hawaiian and other Pacific Islander \n",
    "    \"B02001_007E\", # Some other race\n",
    "    \"B02001_008E\", # Two or more races\n",
    "    \"B03001_003E\", # Hispanic or Latino \n",
    "    # Age & Sex\n",
    "    \"B01001_002E\", # Male\n",
    "    \"B01001_026E\", # Female\n",
    "    \"B01001_003E\", # Male < 5\n",
    "    \"B01001_004E\", # Male 5-9\n",
    "    \"B01001_005E\", # Male 10-14\n",
    "    \"B01001_006E\", # Male 15-17\n",
    "    \"B01001_007E\", # Male 18-19\n",
    "    \"B01001_008E\", # Male 20\n",
    "    \"B01001_009E\", # Male 21\n",
    "    \"B01001_010E\", # Male 22-24\n",
    "    \"B01001_011E\", # Male 25-29\n",
    "    \"B01001_012E\", # Male 30-34\n",
    "    \"B01001_013E\", # Male 35-39\n",
    "    \"B01001_014E\", # Male 40-44\n",
    "    \"B01001_015E\", # Male 45-49\n",
    "    \"B01001_016E\", # Male 50-54\n",
    "    \"B01001_017E\", # Male 55-59\n",
    "    \"B01001_018E\", # Male 60-61\n",
    "    \"B01001_019E\", # Male 62-64\n",
    "    \"B01001_020E\", # Male 65-66\n",
    "    \"B01001_021E\", # Male 67-69\n",
    "    \"B01001_022E\", # Male 70-74\n",
    "    \"B01001_023E\", # Male 75-79\n",
    "    \"B01001_024E\", # Male 80-84\n",
    "    \"B01001_025E\", # Male 85+\n",
    "    \"B01001_027E\", # Female < 5\n",
    "    \"B01001_028E\", # Female 5-9\n",
    "    \"B01001_029E\", # Female 10-14\n",
    "    \"B01001_030E\", # Female 15-17\n",
    "    \"B01001_031E\", # Female 18-19\n",
    "    \"B01001_032E\", # Female 20\n",
    "    \"B01001_033E\", # Female 21\n",
    "    \"B01001_034E\", # Female 22-24\n",
    "    \"B01001_035E\", # Female 25-29\n",
    "    \"B01001_036E\", # Female 30-34\n",
    "    \"B01001_037E\", # Female 35-39\n",
    "    \"B01001_038E\", # Female 40-44\n",
    "    \"B01001_039E\", # Female 45-49\n",
    "    \"B01001_040E\", # Female 50-54\n",
    "    \"B01001_041E\", # Female 55-59\n",
    "    \"B01001_042E\", # Female 60-61\n",
    "    \"B01001_043E\", # Female 62-64\n",
    "    \"B01001_044E\", # Female 65-66\n",
    "    \"B01001_045E\", # Female 67-69\n",
    "    \"B01001_046E\", # Female 70-74\n",
    "    \"B01001_047E\", # Female 75-79\n",
    "    \"B01001_048E\", # Female 80-84\n",
    "    \"B01001_049E\", # Female 85+\n",
    ")"
   ]
  },
  {
   "cell_type": "markdown",
   "id": "50e54979-842d-465e-8d5a-c2d5b29f167e",
   "metadata": {},
   "source": [
    "Instead of the boundaries of the United States Postal Service's ZIP Codes, the Census Bureau uses ZIP Code Tabulation Areas (ZCTAs). ZCTAs are an analgous geographic area to ZIP Codes compromised of Census tabulation blocks, the smallest geogrpahic unit used by the Census Bureau."
   ]
  },
  {
   "cell_type": "code",
   "execution_count": 4,
   "id": "700d0a93-c3e1-4b05-b771-34dee8285f9c",
   "metadata": {},
   "outputs": [
    {
     "name": "stdout",
     "output_type": "stream",
     "text": [
      "Sending request to Census API.\n"
     ]
    }
   ],
   "source": [
    "# make Census API call\n",
    "print('Sending request to Census API.')\n",
    "response = c.acs5.get(\n",
    "                        fields = variables, \n",
    "                        geo={\"for\": \"zip code tabulation area:*\"} # all ZCTAs\n",
    "                    )\n",
    "\n",
    "# convert results to pd dataframe\n",
    "data = pd.DataFrame(response)"
   ]
  },
  {
   "cell_type": "code",
   "execution_count": 5,
   "id": "8e20af19-2cf6-4cbe-b6e7-4e5745aad845",
   "metadata": {},
   "outputs": [
    {
     "name": "stdout",
     "output_type": "stream",
     "text": [
      "               GEO_ID    Zip    Pop   Income  Poverty%    White%    Black%  \\\n",
      "0      860Z200US00601  00601  16834  17526.0  0.620173  0.841749  0.020672   \n",
      "1      860Z200US00602  00602  37642  20260.0  0.472026  0.490914  0.014744   \n",
      "2      860Z200US00603  00603  49075  17703.0  0.479898  0.737972  0.035028   \n",
      "3      860Z200US00606  00606   5590  19603.0  0.540429  0.665653  0.001610   \n",
      "4      860Z200US00610  00610  25542  22796.0  0.454036  0.437789  0.022551   \n",
      "...               ...    ...    ...      ...       ...       ...       ...   \n",
      "33769  860Z200US99923  99923     25     None  0.000000  1.000000  0.000000   \n",
      "33770  860Z200US99925  99925    920  80313.0  0.155435  0.448913  0.004348   \n",
      "33771  860Z200US99926  99926   1465  78365.0  0.151536  0.073720  0.003413   \n",
      "33772  860Z200US99927  99927     14     None  0.000000  1.000000  0.000000   \n",
      "33773  860Z200US99929  99929   2133  61125.0  0.099391  0.569620  0.000469   \n",
      "\n",
      "       Hispanic%    Asian%  TwoOrMore%     Male%   Female%  Under18%      65+%  \n",
      "0       0.993584  0.000832    0.068968  0.495248  0.504752  0.183735  0.208566  \n",
      "1       0.945965  0.001249    0.452606  0.488949  0.511051  0.162292  0.215159  \n",
      "2       0.980968  0.000652    0.086154  0.485237  0.514763  0.170311  0.232522  \n",
      "3       0.993202  0.000000    0.053846  0.487120  0.512880  0.162612  0.248122  \n",
      "4       0.963472  0.000078    0.475570  0.482225  0.517775  0.165179  0.217172  \n",
      "...          ...       ...         ...       ...       ...       ...       ...  \n",
      "33769   0.000000  0.000000    0.000000  0.360000  0.640000  0.000000  1.000000  \n",
      "33770   0.060870  0.316304    0.218478  0.570652  0.429348  0.226087  0.180435  \n",
      "33771   0.036860  0.840956    0.046416  0.561092  0.438908  0.251195  0.154266  \n",
      "33772   0.000000  0.000000    0.000000  0.000000  1.000000  0.000000  0.000000  \n",
      "33773   0.057665  0.228786    0.161275  0.532583  0.467417  0.221285  0.270042  \n",
      "\n",
      "[33774 rows x 14 columns]\n"
     ]
    }
   ],
   "source": [
    "# create final dataframe\n",
    "census = data.loc[:,['GEO_ID', 'zip code tabulation area']].copy(deep = True)\n",
    "\n",
    "\n",
    "# clean data\n",
    "census.rename(columns = {\"zip code tabulation area\": \"Zip\"}, inplace = True) \n",
    "\n",
    "census['Pop'] =         data['B01003_001E'].astype(int)\n",
    "census['Income'] =      np.where(data['B19013_001E'] == -666666666.0, None, data['B19013_001E'])\n",
    "census['Poverty%'] =    data['B17001_002E']/census['Pop']\n",
    "census['White%'] =      data['B02001_002E']/census['Pop'] \n",
    "census['Black%'] =      data['B02001_003E']/census['Pop'] \n",
    "census['Hispanic%'] =   data['B03001_003E']/census['Pop']\n",
    "census['Asian%'] =      data['B02001_004E']/census['Pop']\n",
    "census['TwoOrMore%'] =  data['B02001_008E']/census['Pop']  \n",
    "census['Male%'] =       data['B01001_002E']/census['Pop']\n",
    "census['Female%'] =     data['B01001_026E']/census['Pop']\n",
    "census['Under18%'] =    data[['B01001_003E','B01001_004E','B01001_005E','B01001_006E','B01001_027E',\n",
    "                              'B01001_028E','B01001_029E','B01001_030E']].sum(axis=1)/census['Pop']   \n",
    "census['65+%'] =        data[['B01001_020E','B01001_021E','B01001_022E','B01001_023E','B01001_024E',\n",
    "                              'B01001_025E','B01001_044E','B01001_045E','B01001_046E','B01001_047E',\n",
    "                              'B01001_048E','B01001_049E']].sum(axis=1)/census['Pop'] \n",
    "\n",
    "print(census)"
   ]
  }
 ],
 "metadata": {
  "kernelspec": {
   "display_name": "Python 3 (ipykernel)",
   "language": "python",
   "name": "python3"
  },
  "language_info": {
   "codemirror_mode": {
    "name": "ipython",
    "version": 3
   },
   "file_extension": ".py",
   "mimetype": "text/x-python",
   "name": "python",
   "nbconvert_exporter": "python",
   "pygments_lexer": "ipython3",
   "version": "3.12.3"
  }
 },
 "nbformat": 4,
 "nbformat_minor": 5
}
